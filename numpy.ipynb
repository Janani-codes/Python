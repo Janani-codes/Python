{
 "cells": [
  {
   "cell_type": "code",
   "execution_count": 1,
   "id": "a42433fb-d8b3-48c1-aece-ab8a72912533",
   "metadata": {},
   "outputs": [
    {
     "name": "stdout",
     "output_type": "stream",
     "text": [
      "[1 2 3]\n",
      "<class 'numpy.ndarray'>\n"
     ]
    }
   ],
   "source": [
    "# From a Python list  1d\n",
    "import numpy as np\n",
    "a = np.array([1, 2, 3])\n",
    "print(a)  \n",
    "print(type(a))  \n"
   ]
  },
  {
   "cell_type": "code",
   "execution_count": 6,
   "id": "fc90cb55-6302-4645-b691-2fdb8258bceb",
   "metadata": {},
   "outputs": [
    {
     "name": "stdout",
     "output_type": "stream",
     "text": [
      "[[1 2 3 4]\n",
      " [5 6 7 8]]\n",
      "<class 'numpy.ndarray'>\n"
     ]
    }
   ],
   "source": [
    "#2d\n",
    "b=np.array([[1,2,3,4],[5,6,7,8]])\n",
    "print(b)\n",
    "print(type(b))\n"
   ]
  },
  {
   "cell_type": "code",
   "execution_count": 3,
   "id": "66d22502-a432-4505-b9f9-f44fc47b7399",
   "metadata": {},
   "outputs": [
    {
     "name": "stdout",
     "output_type": "stream",
     "text": [
      "[[[1 2]\n",
      "  [3 4]\n",
      "  [4 5]]]\n"
     ]
    },
    {
     "data": {
      "text/plain": [
       "numpy.ndarray"
      ]
     },
     "execution_count": 3,
     "metadata": {},
     "output_type": "execute_result"
    }
   ],
   "source": [
    "#3d\n",
    "c=np.array([[[1,2],[3,4],[4,5]]])\n",
    "print(c)\n",
    "type(c)"
   ]
  },
  {
   "cell_type": "code",
   "execution_count": 7,
   "id": "ecb40ae7-47e6-4aad-8f74-39536a3a51d5",
   "metadata": {},
   "outputs": [
    {
     "name": "stdout",
     "output_type": "stream",
     "text": [
      "[2 3]\n",
      "[0 1]\n",
      "[1 4]\n",
      "[1. 1.]\n"
     ]
    }
   ],
   "source": [
    "#array oprsn\n",
    "import numpy as np\n",
    "data=np.array([1,2])\n",
    "ones=np.ones(2, dtype=int)\n",
    "print(data + ones) \n",
    "print(data - ones)  \n",
    "print(data * data) \n",
    "print(data / data)  \n",
    "\n"
   ]
  },
  {
   "cell_type": "code",
   "execution_count": 8,
   "id": "e945dd9b-8c96-416a-880b-1f39c71b27bd",
   "metadata": {},
   "outputs": [
    {
     "name": "stdout",
     "output_type": "stream",
     "text": [
      "10\n"
     ]
    }
   ],
   "source": [
    "#Basic array oprsn\n",
    "a=np.array([1,2,3,4])\n",
    "print(a.sum())"
   ]
  },
  {
   "cell_type": "code",
   "execution_count": 9,
   "id": "9fe9722f-e600-4350-865d-407500cb5361",
   "metadata": {},
   "outputs": [
    {
     "name": "stdout",
     "output_type": "stream",
     "text": [
      "2.5\n"
     ]
    }
   ],
   "source": [
    "#mean\n",
    "print(a.mean())"
   ]
  },
  {
   "cell_type": "code",
   "execution_count": 10,
   "id": "a6552dc7-10e8-459b-8248-f364e426f8a8",
   "metadata": {},
   "outputs": [
    {
     "name": "stdout",
     "output_type": "stream",
     "text": [
      "[3 3]\n",
      "[2 4]\n"
     ]
    }
   ],
   "source": [
    "#sum by axis for 2d array\n",
    "b = np.array([[1, 1], [2, 2]])\n",
    "print(b.sum(axis=0)) \n",
    "print(b.sum(axis=1))  \n"
   ]
  },
  {
   "cell_type": "code",
   "execution_count": 11,
   "id": "48c9cdba-8d73-4db7-8db8-e2597d3b63d9",
   "metadata": {},
   "outputs": [
    {
     "data": {
      "text/plain": [
       "array([[0.89657402, 0.93815656],\n",
       "       [0.95732601, 0.54698961]])"
      ]
     },
     "execution_count": 11,
     "metadata": {},
     "output_type": "execute_result"
    }
   ],
   "source": [
    "#spcl arrays\n",
    "np.zeros((2, 3))    \n",
    "np.ones((1, 4))     \n",
    "np.full((3, 3), 7)  \n",
    "np.eye(3)           \n",
    "np.random.random((2, 2))  "
   ]
  }
 ],
 "metadata": {
  "kernelspec": {
   "display_name": "Python 3 (ipykernel)",
   "language": "python",
   "name": "python3"
  },
  "language_info": {
   "codemirror_mode": {
    "name": "ipython",
    "version": 3
   },
   "file_extension": ".py",
   "mimetype": "text/x-python",
   "name": "python",
   "nbconvert_exporter": "python",
   "pygments_lexer": "ipython3",
   "version": "3.12.7"
  }
 },
 "nbformat": 4,
 "nbformat_minor": 5
}
