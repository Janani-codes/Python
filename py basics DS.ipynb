{
 "cells": [
  {
   "cell_type": "code",
   "execution_count": 5,
   "id": "1e06b4ec-8cd6-4fff-a5ac-fe9b32ee62cf",
   "metadata": {},
   "outputs": [
    {
     "name": "stdout",
     "output_type": "stream",
     "text": [
      "My name is janani\n",
      "I am 19 years old.\n"
     ]
    }
   ],
   "source": [
    "name = \"janani\"    #variables and datatypes\n",
    "age = 19\n",
    "height = 5.2\n",
    "is_student = True\n",
    "print(\"My name is\", name)\n",
    "print(\"I am\", age, \"years old.\")\n"
   ]
  },
  {
   "cell_type": "code",
   "execution_count": 2,
   "id": "670b4866-08ae-4355-9184-7197cf7d58e1",
   "metadata": {},
   "outputs": [
    {
     "name": "stdout",
     "output_type": "stream",
     "text": [
      "13\n",
      "1000\n",
      "True\n",
      "True\n"
     ]
    }
   ],
   "source": [
    "# Arithmetic operators\n",
    "a = 10\n",
    "b = 3\n",
    "print(a + b)  \n",
    "print(a ** b) \n",
    "print(a > b) \n",
    "print(a > 5 and b < 5)  \n"
   ]
  },
  {
   "cell_type": "code",
   "execution_count": 9,
   "id": "abb5dd42-6a5f-4211-a0b8-0e6391caf909",
   "metadata": {},
   "outputs": [
    {
     "name": "stdin",
     "output_type": "stream",
     "text": [
      "Enter your name:  Janani V\n"
     ]
    },
    {
     "name": "stdout",
     "output_type": "stream",
     "text": [
      "Hello Janani V\n"
     ]
    },
    {
     "name": "stdin",
     "output_type": "stream",
     "text": [
      "Enter your age:  19\n"
     ]
    },
    {
     "name": "stdout",
     "output_type": "stream",
     "text": [
      "In 5 years, you will be 24\n"
     ]
    }
   ],
   "source": [
    "name = input(\"Enter your name: \")   #in and output\n",
    "print(\"Hello\", name)\n",
    "age = int(input(\"Enter your age: \"))\n",
    "print(\"In 5 years, you will be\", age + 5)\n"
   ]
  },
  {
   "cell_type": "code",
   "execution_count": 16,
   "id": "92ec4007-fb3a-49b1-b295-2f9a2134e795",
   "metadata": {},
   "outputs": [
    {
     "name": "stdout",
     "output_type": "stream",
     "text": [
      "good\n"
     ]
    }
   ],
   "source": [
    "marks=89           #conditional statement\n",
    "if marks >=90:\n",
    "    print(\"very Good\")\n",
    "elif marks >=74:\n",
    "    print(\"good\")\n",
    "else:\n",
    "    print(\"improve\")"
   ]
  },
  {
   "cell_type": "code",
   "execution_count": 19,
   "id": "a8335755-665f-4620-90af-aa6f881a41ef",
   "metadata": {},
   "outputs": [
    {
     "name": "stdout",
     "output_type": "stream",
     "text": [
      "0\n",
      "1\n",
      "2\n",
      "3\n",
      "4\n",
      "5\n",
      "6\n",
      "7\n",
      "8\n",
      "9\n"
     ]
    }
   ],
   "source": [
    "#for loop\n",
    "for i in range(10):\n",
    "    print(i)\n",
    "\n"
   ]
  },
  {
   "cell_type": "code",
   "execution_count": 20,
   "id": "a1fc8d9c-7195-4303-be58-5e0fa8118d37",
   "metadata": {},
   "outputs": [
    {
     "name": "stdout",
     "output_type": "stream",
     "text": [
      "1\n",
      "2\n",
      "3\n"
     ]
    }
   ],
   "source": [
    "#while loop\n",
    "n=1\n",
    "while n <=3:\n",
    "    print(n)\n",
    "    n +=1"
   ]
  },
  {
   "cell_type": "code",
   "execution_count": 25,
   "id": "d0492602-3655-422a-bf4f-7cd86d7c7410",
   "metadata": {},
   "outputs": [
    {
     "name": "stdout",
     "output_type": "stream",
     "text": [
      "banana\n",
      "['apple', 'banana', 'mango', 'grape']\n"
     ]
    }
   ],
   "source": [
    "#list\n",
    "fruits = [\"apple\", \"banana\", \"mango\"]\n",
    "print(fruits[1])        \n",
    "fruits.append(\"grape\")  \n",
    "print(fruits)\n"
   ]
  },
  {
   "cell_type": "code",
   "execution_count": 26,
   "id": "71f9f199-f56e-407f-b91d-ac7ad75e7010",
   "metadata": {},
   "outputs": [
    {
     "name": "stdout",
     "output_type": "stream",
     "text": [
      "red\n"
     ]
    }
   ],
   "source": [
    "#tuples\n",
    "colors = (\"red\", \"green\", \"blue\")\n",
    "print(colors[0])  \n"
   ]
  },
  {
   "cell_type": "code",
   "execution_count": 29,
   "id": "3cd8dd4d-a029-4716-b1b6-af5cfd9e667e",
   "metadata": {},
   "outputs": [
    {
     "name": "stdout",
     "output_type": "stream",
     "text": [
      "jan\n"
     ]
    }
   ],
   "source": [
    "#dict\n",
    "person={\"name\": \"jan\", \"age\":20}\n",
    "print(person[\"name\"])"
   ]
  },
  {
   "cell_type": "code",
   "execution_count": 30,
   "id": "48021683-5ccf-4f44-8cb0-bb1e3162dbd7",
   "metadata": {},
   "outputs": [
    {
     "name": "stdout",
     "output_type": "stream",
     "text": [
      "{1, 2, 3, 4, 5}\n"
     ]
    }
   ],
   "source": [
    "#set\n",
    "num={1,2,3,4,5}\n",
    "print(num)"
   ]
  },
  {
   "cell_type": "code",
   "execution_count": 33,
   "id": "ecad1f15-d803-4147-9f12-5572b9c671de",
   "metadata": {},
   "outputs": [
    {
     "name": "stdin",
     "output_type": "stream",
     "text": [
      "name:  nancy\n",
      "age:  36\n"
     ]
    },
    {
     "name": "stdout",
     "output_type": "stream",
     "text": [
      "nancy is an adult\n"
     ]
    }
   ],
   "source": [
    "name=input(\"name: \")\n",
    "age=int(input(\"age: \"))\n",
    "if age>= 18:\n",
    "    print(name, \"is an adult\")\n",
    "else:\n",
    "    print(name, \"is an minor\")\n",
    "    "
   ]
  },
  {
   "cell_type": "code",
   "execution_count": null,
   "id": "d859f289-9cbd-4afb-9b6b-0f020510972b",
   "metadata": {},
   "outputs": [],
   "source": []
  }
 ],
 "metadata": {
  "kernelspec": {
   "display_name": "Python 3 (ipykernel)",
   "language": "python",
   "name": "python3"
  },
  "language_info": {
   "codemirror_mode": {
    "name": "ipython",
    "version": 3
   },
   "file_extension": ".py",
   "mimetype": "text/x-python",
   "name": "python",
   "nbconvert_exporter": "python",
   "pygments_lexer": "ipython3",
   "version": "3.12.7"
  }
 },
 "nbformat": 4,
 "nbformat_minor": 5
}
