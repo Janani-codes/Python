{
 "cells": [
  {
   "cell_type": "code",
   "execution_count": 3,
   "id": "1b117872-b3c2-453c-b390-2831f32110f1",
   "metadata": {},
   "outputs": [
    {
     "name": "stdout",
     "output_type": "stream",
     "text": [
      "Hello world\n"
     ]
    }
   ],
   "source": [
    "#fun def\n",
    "def greet():\n",
    "   print(\"Hello world\")\n",
    "greet()"
   ]
  },
  {
   "cell_type": "code",
   "execution_count": 14,
   "id": "95443f41-65f1-40f1-907d-ff7cbbab60fe",
   "metadata": {},
   "outputs": [
    {
     "name": "stdout",
     "output_type": "stream",
     "text": [
      "11\n"
     ]
    }
   ],
   "source": [
    "#fun parameters arguments\n",
    "def add(a, b):\n",
    "    return a + b\n",
    "result = add(4,7)\n",
    "print(result)"
   ]
  },
  {
   "cell_type": "code",
   "execution_count": 18,
   "id": "3ecc7a8e-a8a1-420d-8e62-9dd26a4a30ae",
   "metadata": {},
   "outputs": [
    {
     "name": "stdin",
     "output_type": "stream",
     "text": [
      "enter x:  6\n"
     ]
    },
    {
     "name": "stdout",
     "output_type": "stream",
     "text": [
      "36\n"
     ]
    }
   ],
   "source": [
    "#return values\n",
    "def square(x):\n",
    "    return x*x\n",
    "x=int(input(\"enter x: \"))\n",
    "output=square(x)\n",
    "print(output)"
   ]
  },
  {
   "cell_type": "code",
   "execution_count": 29,
   "id": "3aaddbd3-d855-43d9-9f43-ef8609f1bc72",
   "metadata": {},
   "outputs": [
    {
     "name": "stdout",
     "output_type": "stream",
     "text": [
      "Hello, Guest!\n",
      "Hello, jaanu!\n"
     ]
    }
   ],
   "source": [
    "#default parameters\n",
    "def greet(name=\"Guest\"):\n",
    "    print(f\"Hello, {name}!\")\n",
    "greet()\n",
    "greet(\"jaanu\")"
   ]
  },
  {
   "cell_type": "code",
   "execution_count": 23,
   "id": "c6dbba3f-440e-4d97-9540-e81112e5247c",
   "metadata": {},
   "outputs": [
    {
     "name": "stdout",
     "output_type": "stream",
     "text": [
      "6\n"
     ]
    }
   ],
   "source": [
    "#var arguments\n",
    "def total(*args):\n",
    "    return sum(args)\n",
    "\n",
    "print(total(1, 2, 3))  \n"
   ]
  },
  {
   "cell_type": "code",
   "execution_count": 32,
   "id": "8aec83a7-483a-453e-9a52-82295532dfcd",
   "metadata": {},
   "outputs": [
    {
     "name": "stdin",
     "output_type": "stream",
     "text": [
      "enter y value:  4\n"
     ]
    },
    {
     "name": "stdout",
     "output_type": "stream",
     "text": [
      "2.0\n",
      "3.141592653589793\n"
     ]
    }
   ],
   "source": [
    "#importing using modules\n",
    "import math \n",
    "y=int(input(\"enter y value: \"))\n",
    "print(math.sqrt(y)) \n",
    "\n",
    "from math import pi\n",
    "print(pi)"
   ]
  }
 ],
 "metadata": {
  "kernelspec": {
   "display_name": "Python 3 (ipykernel)",
   "language": "python",
   "name": "python3"
  },
  "language_info": {
   "codemirror_mode": {
    "name": "ipython",
    "version": 3
   },
   "file_extension": ".py",
   "mimetype": "text/x-python",
   "name": "python",
   "nbconvert_exporter": "python",
   "pygments_lexer": "ipython3",
   "version": "3.12.7"
  }
 },
 "nbformat": 4,
 "nbformat_minor": 5
}
