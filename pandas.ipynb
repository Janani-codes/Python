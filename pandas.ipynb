{
 "cells": [
  {
   "cell_type": "code",
   "execution_count": 4,
   "id": "a3614c16-cddf-4cda-b1f5-e2810a4389b7",
   "metadata": {},
   "outputs": [
    {
     "name": "stdout",
     "output_type": "stream",
     "text": [
      "Requirement already satisfied: pandas in d:\\new drive\\anaconda3\\lib\\site-packages (2.2.2)\n",
      "Requirement already satisfied: numpy>=1.26.0 in d:\\new drive\\anaconda3\\lib\\site-packages (from pandas) (1.26.4)\n",
      "Requirement already satisfied: python-dateutil>=2.8.2 in d:\\new drive\\anaconda3\\lib\\site-packages (from pandas) (2.9.0.post0)\n",
      "Requirement already satisfied: pytz>=2020.1 in d:\\new drive\\anaconda3\\lib\\site-packages (from pandas) (2024.1)\n",
      "Requirement already satisfied: tzdata>=2022.7 in d:\\new drive\\anaconda3\\lib\\site-packages (from pandas) (2023.3)\n",
      "Requirement already satisfied: six>=1.5 in d:\\new drive\\anaconda3\\lib\\site-packages (from python-dateutil>=2.8.2->pandas) (1.16.0)\n"
     ]
    }
   ],
   "source": [
    "!pip install pandas\n"
   ]
  },
  {
   "cell_type": "code",
   "execution_count": 5,
   "id": "1ad2fe0b-90ff-4b8d-bf20-02b923b0b8f4",
   "metadata": {},
   "outputs": [],
   "source": [
    "import pandas as pd"
   ]
  },
  {
   "cell_type": "code",
   "execution_count": 6,
   "id": "707017b8-f916-4001-89c6-25529bae99fd",
   "metadata": {},
   "outputs": [
    {
     "name": "stdout",
     "output_type": "stream",
     "text": [
      "0    10\n",
      "1    20\n",
      "2    30\n",
      "3    40\n",
      "dtype: int64\n"
     ]
    }
   ],
   "source": [
    "#dataframe series\n",
    "import pandas as pd\n",
    "s = pd.Series([10, 20, 30, 40])\n",
    "print(s)\n"
   ]
  },
  {
   "cell_type": "code",
   "execution_count": 8,
   "id": "af1cd2cf-d98a-41d3-9120-37cd6606c0dd",
   "metadata": {},
   "outputs": [
    {
     "name": "stdout",
     "output_type": "stream",
     "text": [
      "    name  age\n",
      "0  Alice   25\n",
      "1    Bob   30\n"
     ]
    }
   ],
   "source": [
    "#dataframe creation\n",
    "data = {'name': ['Alice', 'Bob'], 'age': [25, 30]}\n",
    "df = pd.DataFrame(data)\n",
    "print(df)\n"
   ]
  },
  {
   "cell_type": "code",
   "execution_count": 23,
   "id": "30713833-0a3e-45a7-9ef4-738ee3eab181",
   "metadata": {},
   "outputs": [
    {
     "name": "stdout",
     "output_type": "stream",
     "text": [
      "       NAME  AGE  GENDER  PERCENT PASS/FAIL PUNCTUALITY  BEHAVIOUR DEPARTMENT  \\\n",
      "0  Gayathri   20  Female       37      Fail     On Time    Average        CSE   \n",
      "1     Kumar   18    Male       77      Pass        Late  Excellent         IT   \n",
      "2   Kishore   20    Male       43      Fail        Late    Average        ECE   \n",
      "3   Vasanth   19    Male       99      Pass     On Time  Excellent        CSE   \n",
      "4      Devi   17  Female       92      Pass     On Time    Average         IT   \n",
      "\n",
      "   DISCIPLINE SCORE  SEMESTER  ARREARS SPORTS  INTERNSHIP  PROJECTS  TARGET  \n",
      "0                 5         3        3     NO           1         1       1  \n",
      "1                 9         2        0    YES           0         0       0  \n",
      "2                 7         3        3     NO           1         0       1  \n",
      "3                 7         5        0    YES           0         2       0  \n",
      "4                 8         4        0    YES           2         2       0  \n"
     ]
    }
   ],
   "source": [
    "#read from csv\n",
    "import pandas as pd\n",
    "df = pd.read_csv(r\"C:\\Users\\janan\\OneDrive\\Desktop\\Internship\\py git\\Student_dataset_1.csv\")  # 'data.csv'in folder\n",
    "print(df.head())  # first 5 rows\n"
   ]
  },
  {
   "cell_type": "code",
   "execution_count": 21,
   "id": "88f95f8a-a189-41fe-819b-9dfa1f72e3c4",
   "metadata": {},
   "outputs": [
    {
     "name": "stdout",
     "output_type": "stream",
     "text": [
      "(100, 15)\n",
      "Index(['NAME', 'AGE', 'GENDER', 'PERCENT', 'PASS/FAIL', 'PUNCTUALITY',\n",
      "       'BEHAVIOUR', 'DEPARTMENT', 'DISCIPLINE SCORE', 'SEMESTER', 'ARREARS',\n",
      "       'SPORTS', 'INTERNSHIP', 'PROJECTS', 'TARGET'],\n",
      "      dtype='object')\n",
      "              AGE    PERCENT  DISCIPLINE SCORE    SEMESTER     ARREARS  \\\n",
      "count  100.000000  100.00000        100.000000  100.000000  100.000000   \n",
      "mean    18.230000   59.00000          6.310000    4.200000    1.280000   \n",
      "std      1.062254   23.10538          1.440363    0.887625    1.333939   \n",
      "min     17.000000   30.00000          3.000000    2.000000    0.000000   \n",
      "25%     17.000000   37.75000          5.000000    4.000000    0.000000   \n",
      "50%     18.000000   54.50000          7.000000    4.000000    1.500000   \n",
      "75%     19.000000   79.25000          7.000000    5.000000    2.250000   \n",
      "max     20.000000  100.00000          9.000000    6.000000    4.000000   \n",
      "\n",
      "       INTERNSHIP    PROJECTS      TARGET  \n",
      "count  100.000000  100.000000  100.000000  \n",
      "mean     0.600000    0.740000    0.500000  \n",
      "std      0.635642    0.733333    0.502519  \n",
      "min      0.000000    0.000000    0.000000  \n",
      "25%      0.000000    0.000000    0.000000  \n",
      "50%      1.000000    1.000000    0.500000  \n",
      "75%      1.000000    1.000000    1.000000  \n",
      "max      2.000000    2.000000    1.000000  \n",
      "<class 'pandas.core.frame.DataFrame'>\n",
      "RangeIndex: 100 entries, 0 to 99\n",
      "Data columns (total 15 columns):\n",
      " #   Column            Non-Null Count  Dtype \n",
      "---  ------            --------------  ----- \n",
      " 0   NAME              100 non-null    object\n",
      " 1   AGE               100 non-null    int64 \n",
      " 2   GENDER            100 non-null    object\n",
      " 3   PERCENT           100 non-null    int64 \n",
      " 4   PASS/FAIL         100 non-null    object\n",
      " 5   PUNCTUALITY       100 non-null    object\n",
      " 6   BEHAVIOUR         100 non-null    object\n",
      " 7   DEPARTMENT        100 non-null    object\n",
      " 8   DISCIPLINE SCORE  100 non-null    int64 \n",
      " 9   SEMESTER          100 non-null    int64 \n",
      " 10  ARREARS           100 non-null    int64 \n",
      " 11  SPORTS            100 non-null    object\n",
      " 12  INTERNSHIP        100 non-null    int64 \n",
      " 13  PROJECTS          100 non-null    int64 \n",
      " 14  TARGET            100 non-null    int64 \n",
      "dtypes: int64(8), object(7)\n",
      "memory usage: 11.8+ KB\n",
      "None\n"
     ]
    }
   ],
   "source": [
    "print(df.shape)    # Rows and columns count\n",
    "print(df.columns)  # Column names\n",
    "print(df.describe())  # Summary statistics for numeric columns\n",
    "print(df.info())      # Data types and non-null counts\n"
   ]
  },
  {
   "cell_type": "code",
   "execution_count": 14,
   "id": "0d9fea50-f982-44bd-9ca8-dbca87813d26",
   "metadata": {},
   "outputs": [
    {
     "name": "stdout",
     "output_type": "stream",
     "text": [
      "0     20\n",
      "1     18\n",
      "2     20\n",
      "3     19\n",
      "4     17\n",
      "      ..\n",
      "95    20\n",
      "96    17\n",
      "97    20\n",
      "98    17\n",
      "99    17\n",
      "Name: AGE, Length: 100, dtype: int64\n",
      "NAME                Gayathri\n",
      "AGE                       20\n",
      "GENDER                Female\n",
      "PERCENT                   37\n",
      "PASS/FAIL               Fail\n",
      "PUNCTUALITY          On Time\n",
      "BEHAVIOUR            Average\n",
      "DEPARTMENT               CSE\n",
      "DISCIPLINE SCORE           5\n",
      "SEMESTER                   3\n",
      "ARREARS                    3\n",
      "SPORTS                    NO\n",
      "INTERNSHIP                 1\n",
      "PROJECTS                   1\n",
      "TARGET                     1\n",
      "Name: 0, dtype: object\n",
      "Empty DataFrame\n",
      "Columns: [NAME, AGE, GENDER, PERCENT, PASS/FAIL, PUNCTUALITY, BEHAVIOUR, DEPARTMENT, DISCIPLINE SCORE, SEMESTER, ARREARS, SPORTS, INTERNSHIP, PROJECTS, TARGET]\n",
      "Index: []\n"
     ]
    }
   ],
   "source": [
    "# Select a column\n",
    "print(df['AGE'])\n",
    "\n",
    "# Select first row by index\n",
    "print(df.iloc[0])\n",
    "\n",
    "# Select rows with a condition\n",
    "print(df[df['AGE'] > 25])\n"
   ]
  },
  {
   "cell_type": "code",
   "execution_count": 28,
   "id": "7f39c81a-edee-469d-b6bc-57bf5938d523",
   "metadata": {},
   "outputs": [],
   "source": [
    "df_cleaned = df.dropna()\n"
   ]
  },
  {
   "cell_type": "code",
   "execution_count": 26,
   "id": "39874e35-6530-4de2-9673-9258e756b239",
   "metadata": {},
   "outputs": [
    {
     "name": "stdout",
     "output_type": "stream",
     "text": [
      "              AGE    PERCENT  DISCIPLINE SCORE    SEMESTER     ARREARS  \\\n",
      "count  100.000000  100.00000        100.000000  100.000000  100.000000   \n",
      "mean    18.230000   59.00000          6.310000    4.200000    1.280000   \n",
      "std      1.062254   23.10538          1.440363    0.887625    1.333939   \n",
      "min     17.000000   30.00000          3.000000    2.000000    0.000000   \n",
      "25%     17.000000   37.75000          5.000000    4.000000    0.000000   \n",
      "50%     18.000000   54.50000          7.000000    4.000000    1.500000   \n",
      "75%     19.000000   79.25000          7.000000    5.000000    2.250000   \n",
      "max     20.000000  100.00000          9.000000    6.000000    4.000000   \n",
      "\n",
      "       INTERNSHIP    PROJECTS      TARGET  \n",
      "count  100.000000  100.000000  100.000000  \n",
      "mean     0.600000    0.740000    0.500000  \n",
      "std      0.635642    0.733333    0.502519  \n",
      "min      0.000000    0.000000    0.000000  \n",
      "25%      0.000000    0.000000    0.000000  \n",
      "50%      1.000000    1.000000    0.500000  \n",
      "75%      1.000000    1.000000    1.000000  \n",
      "max      2.000000    2.000000    1.000000  \n"
     ]
    }
   ],
   "source": [
    "print(df.describe())\n"
   ]
  },
  {
   "cell_type": "code",
   "execution_count": null,
   "id": "fb2f8aff-2ce3-4bfa-9a87-22cae020cd2a",
   "metadata": {},
   "outputs": [],
   "source": []
  }
 ],
 "metadata": {
  "kernelspec": {
   "display_name": "Python 3 (ipykernel)",
   "language": "python",
   "name": "python3"
  },
  "language_info": {
   "codemirror_mode": {
    "name": "ipython",
    "version": 3
   },
   "file_extension": ".py",
   "mimetype": "text/x-python",
   "name": "python",
   "nbconvert_exporter": "python",
   "pygments_lexer": "ipython3",
   "version": "3.12.7"
  }
 },
 "nbformat": 4,
 "nbformat_minor": 5
}
